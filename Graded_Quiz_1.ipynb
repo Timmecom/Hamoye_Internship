{
 "cells": [
  {
   "cell_type": "markdown",
   "metadata": {},
   "source": [
    "Question 1\n",
    "If you’re given two lists:\n",
    "\n",
    "A = [1,2,3,4,5,6], B = [13, 21, 34]\n",
    "\n",
    "The task is to create a list with the elements of A and B in a single dimension with output:\n",
    "\n",
    "A_B = [1,2,3,4,5,6,13, 21, 34]\n",
    "\n",
    "Which of the following option is the best way to create this list?"
   ]
  },
  {
   "cell_type": "code",
   "execution_count": 1,
   "metadata": {},
   "outputs": [],
   "source": [
    "A = [1,2,3,4,5,6]\n",
    "B = [13,21,34]"
   ]
  },
  {
   "cell_type": "code",
   "execution_count": 2,
   "metadata": {},
   "outputs": [
    {
     "name": "stdout",
     "output_type": "stream",
     "text": [
      "None\n",
      "[1, 2, 3, 4, 5, 6, 13, 21, 34]\n"
     ]
    }
   ],
   "source": [
    "A_B = A.extend(B)\n",
    "print(A_B)\n",
    "print(A)"
   ]
  },
  {
   "cell_type": "code",
   "execution_count": 3,
   "metadata": {},
   "outputs": [],
   "source": [
    "A = [1,2,3,4,5,6]\n",
    "B = [13,21,34]"
   ]
  },
  {
   "cell_type": "code",
   "execution_count": 4,
   "metadata": {},
   "outputs": [
    {
     "name": "stdout",
     "output_type": "stream",
     "text": [
      "None\n",
      "[1, 2, 3, 4, 5, 6, [13, 21, 34]]\n"
     ]
    }
   ],
   "source": [
    "A_B = A.append(B)\n",
    "print(A_B)\n",
    "print(A)"
   ]
  },
  {
   "cell_type": "markdown",
   "metadata": {},
   "source": [
    "Question 2\n",
    "How do you create an identity matrix in python?"
   ]
  },
  {
   "cell_type": "code",
   "execution_count": 5,
   "metadata": {},
   "outputs": [],
   "source": [
    "#Import the necessary library\n",
    "import numpy as np"
   ]
  },
  {
   "cell_type": "code",
   "execution_count": 6,
   "metadata": {},
   "outputs": [
    {
     "name": "stdout",
     "output_type": "stream",
     "text": [
      "Doesn't work\n"
     ]
    }
   ],
   "source": [
    "try:\n",
    "    np.array([1,0,0],[0,1,0],[0,0,1])\n",
    "except:\n",
    "    print(\"Doesn't work\")"
   ]
  },
  {
   "cell_type": "code",
   "execution_count": 7,
   "metadata": {},
   "outputs": [],
   "source": [
    "try:\n",
    "    np.identity(3)\n",
    "except:\n",
    "    print(\"Doesn't work\")"
   ]
  },
  {
   "cell_type": "code",
   "execution_count": 8,
   "metadata": {},
   "outputs": [],
   "source": [
    "try:\n",
    "    np.eye(3)\n",
    "except:\n",
    "    print(\"Doesn't work\")"
   ]
  },
  {
   "cell_type": "code",
   "execution_count": 9,
   "metadata": {},
   "outputs": [
    {
     "name": "stdout",
     "output_type": "stream",
     "text": [
      "Doesn't work\n"
     ]
    }
   ],
   "source": [
    "try:\n",
    "    eye(3)\n",
    "except:\n",
    "    print(\"Doesn't work\")"
   ]
  },
  {
   "cell_type": "markdown",
   "metadata": {},
   "source": [
    "Question 3\n",
    "Which of the following fuel type code has the lowest average fuel cost per unit burned?"
   ]
  },
  {
   "cell_type": "code",
   "execution_count": 10,
   "metadata": {},
   "outputs": [],
   "source": [
    "#Import the necessary library\n",
    "import pandas as pd"
   ]
  },
  {
   "cell_type": "code",
   "execution_count": 11,
   "metadata": {},
   "outputs": [],
   "source": [
    "url = 'https://raw.githubusercontent.com/WalePhenomenon/climate_change/master/fuel_ferc1.csv'\n",
    "fuel_data = pd.read_csv(url, error_bad_lines=False)"
   ]
  },
  {
   "cell_type": "code",
   "execution_count": 12,
   "metadata": {},
   "outputs": [
    {
     "data": {
      "text/plain": [
       "Index(['record_id', 'utility_id_ferc1', 'report_year', 'plant_name_ferc1',\n",
       "       'fuel_type_code_pudl', 'fuel_unit', 'fuel_qty_burned',\n",
       "       'fuel_mmbtu_per_unit', 'fuel_cost_per_unit_burned',\n",
       "       'fuel_cost_per_unit_delivered', 'fuel_cost_per_mmbtu'],\n",
       "      dtype='object')"
      ]
     },
     "execution_count": 12,
     "metadata": {},
     "output_type": "execute_result"
    }
   ],
   "source": [
    "fuel_data.columns"
   ]
  },
  {
   "cell_type": "code",
   "execution_count": 13,
   "metadata": {},
   "outputs": [
    {
     "data": {
      "text/plain": [
       "7733    waste\n",
       "Name: fuel_type_code_pudl, dtype: object"
      ]
     },
     "execution_count": 13,
     "metadata": {},
     "output_type": "execute_result"
    }
   ],
   "source": [
    "#Method 1: heck for the minimum value among all values \n",
    "fuel_data[fuel_data['fuel_cost_per_unit_burned'] == min(fuel_data['fuel_cost_per_unit_burned'])]['fuel_type_code_pudl']"
   ]
  },
  {
   "cell_type": "code",
   "execution_count": 14,
   "metadata": {},
   "outputs": [
    {
     "data": {
      "text/plain": [
       "'waste'"
      ]
     },
     "execution_count": 14,
     "metadata": {},
     "output_type": "execute_result"
    }
   ],
   "source": [
    "#Method 2: sort in ascending order and pick the first\n",
    "fuel_data.sort_values('fuel_cost_per_unit_burned',ascending=True).iloc[0]['fuel_type_code_pudl']"
   ]
  },
  {
   "cell_type": "code",
   "execution_count": 15,
   "metadata": {},
   "outputs": [
    {
     "name": "stdout",
     "output_type": "stream",
     "text": [
      "The fuel type code with the lowest average fuel cost per unit burned is: \n",
      "waste\n"
     ]
    }
   ],
   "source": [
    "print(f\"The fuel type code with the lowest average fuel cost per unit burned is: \\n{fuel_data.sort_values('fuel_cost_per_unit_burned',ascending=True).iloc[0]['fuel_type_code_pudl']}\")"
   ]
  },
  {
   "cell_type": "markdown",
   "metadata": {},
   "source": [
    "Question 4\n",
    "What is the standard deviation and 75th percentile of the measure of energy per unit (Fuel_mmbtu_per_unit) in two decimal places?"
   ]
  },
  {
   "cell_type": "code",
   "execution_count": 16,
   "metadata": {},
   "outputs": [
    {
     "data": {
      "text/html": [
       "<div>\n",
       "<style scoped>\n",
       "    .dataframe tbody tr th:only-of-type {\n",
       "        vertical-align: middle;\n",
       "    }\n",
       "\n",
       "    .dataframe tbody tr th {\n",
       "        vertical-align: top;\n",
       "    }\n",
       "\n",
       "    .dataframe thead th {\n",
       "        text-align: right;\n",
       "    }\n",
       "</style>\n",
       "<table border=\"1\" class=\"dataframe\">\n",
       "  <thead>\n",
       "    <tr style=\"text-align: right;\">\n",
       "      <th></th>\n",
       "      <th>utility_id_ferc1</th>\n",
       "      <th>report_year</th>\n",
       "      <th>fuel_qty_burned</th>\n",
       "      <th>fuel_mmbtu_per_unit</th>\n",
       "      <th>fuel_cost_per_unit_burned</th>\n",
       "      <th>fuel_cost_per_unit_delivered</th>\n",
       "      <th>fuel_cost_per_mmbtu</th>\n",
       "    </tr>\n",
       "  </thead>\n",
       "  <tbody>\n",
       "    <tr>\n",
       "      <th>count</th>\n",
       "      <td>29523.000000</td>\n",
       "      <td>29523.000000</td>\n",
       "      <td>2.952300e+04</td>\n",
       "      <td>29523.000000</td>\n",
       "      <td>29523.000000</td>\n",
       "      <td>2.952300e+04</td>\n",
       "      <td>29523.000000</td>\n",
       "    </tr>\n",
       "    <tr>\n",
       "      <th>mean</th>\n",
       "      <td>118.601836</td>\n",
       "      <td>2005.806050</td>\n",
       "      <td>2.622119e+06</td>\n",
       "      <td>8.492111</td>\n",
       "      <td>208.649031</td>\n",
       "      <td>9.175704e+02</td>\n",
       "      <td>19.304354</td>\n",
       "    </tr>\n",
       "    <tr>\n",
       "      <th>std</th>\n",
       "      <td>74.178353</td>\n",
       "      <td>7.025483</td>\n",
       "      <td>9.118004e+06</td>\n",
       "      <td>10.600220</td>\n",
       "      <td>2854.490090</td>\n",
       "      <td>6.877593e+04</td>\n",
       "      <td>2091.540939</td>\n",
       "    </tr>\n",
       "    <tr>\n",
       "      <th>min</th>\n",
       "      <td>1.000000</td>\n",
       "      <td>1994.000000</td>\n",
       "      <td>1.000000e+00</td>\n",
       "      <td>0.000001</td>\n",
       "      <td>-276.080000</td>\n",
       "      <td>-8.749370e+02</td>\n",
       "      <td>-41.501000</td>\n",
       "    </tr>\n",
       "    <tr>\n",
       "      <th>25%</th>\n",
       "      <td>55.000000</td>\n",
       "      <td>2000.000000</td>\n",
       "      <td>1.381700e+04</td>\n",
       "      <td>1.024000</td>\n",
       "      <td>5.207000</td>\n",
       "      <td>3.778500e+00</td>\n",
       "      <td>1.940000</td>\n",
       "    </tr>\n",
       "    <tr>\n",
       "      <th>50%</th>\n",
       "      <td>122.000000</td>\n",
       "      <td>2006.000000</td>\n",
       "      <td>2.533220e+05</td>\n",
       "      <td>5.762694</td>\n",
       "      <td>26.000000</td>\n",
       "      <td>1.737100e+01</td>\n",
       "      <td>4.127000</td>\n",
       "    </tr>\n",
       "    <tr>\n",
       "      <th>75%</th>\n",
       "      <td>176.000000</td>\n",
       "      <td>2012.000000</td>\n",
       "      <td>1.424034e+06</td>\n",
       "      <td>17.006000</td>\n",
       "      <td>47.113000</td>\n",
       "      <td>4.213700e+01</td>\n",
       "      <td>7.745000</td>\n",
       "    </tr>\n",
       "    <tr>\n",
       "      <th>max</th>\n",
       "      <td>514.000000</td>\n",
       "      <td>2018.000000</td>\n",
       "      <td>5.558942e+08</td>\n",
       "      <td>341.260000</td>\n",
       "      <td>139358.000000</td>\n",
       "      <td>7.964521e+06</td>\n",
       "      <td>359278.000000</td>\n",
       "    </tr>\n",
       "  </tbody>\n",
       "</table>\n",
       "</div>"
      ],
      "text/plain": [
       "       utility_id_ferc1   report_year  fuel_qty_burned  fuel_mmbtu_per_unit  \\\n",
       "count      29523.000000  29523.000000     2.952300e+04         29523.000000   \n",
       "mean         118.601836   2005.806050     2.622119e+06             8.492111   \n",
       "std           74.178353      7.025483     9.118004e+06            10.600220   \n",
       "min            1.000000   1994.000000     1.000000e+00             0.000001   \n",
       "25%           55.000000   2000.000000     1.381700e+04             1.024000   \n",
       "50%          122.000000   2006.000000     2.533220e+05             5.762694   \n",
       "75%          176.000000   2012.000000     1.424034e+06            17.006000   \n",
       "max          514.000000   2018.000000     5.558942e+08           341.260000   \n",
       "\n",
       "       fuel_cost_per_unit_burned  fuel_cost_per_unit_delivered  \\\n",
       "count               29523.000000                  2.952300e+04   \n",
       "mean                  208.649031                  9.175704e+02   \n",
       "std                  2854.490090                  6.877593e+04   \n",
       "min                  -276.080000                 -8.749370e+02   \n",
       "25%                     5.207000                  3.778500e+00   \n",
       "50%                    26.000000                  1.737100e+01   \n",
       "75%                    47.113000                  4.213700e+01   \n",
       "max                139358.000000                  7.964521e+06   \n",
       "\n",
       "       fuel_cost_per_mmbtu  \n",
       "count         29523.000000  \n",
       "mean             19.304354  \n",
       "std            2091.540939  \n",
       "min             -41.501000  \n",
       "25%               1.940000  \n",
       "50%               4.127000  \n",
       "75%               7.745000  \n",
       "max          359278.000000  "
      ]
     },
     "execution_count": 16,
     "metadata": {},
     "output_type": "execute_result"
    }
   ],
   "source": [
    "fuel_data.describe()"
   ]
  },
  {
   "cell_type": "code",
   "execution_count": 17,
   "metadata": {},
   "outputs": [
    {
     "name": "stdout",
     "output_type": "stream",
     "text": [
      "The standard deviation and 75th percentile  of the measure of energy per unit (Fuel_mmbtu_per_unit) in two decimal places are: \n",
      "10.60 and 17.01\n"
     ]
    }
   ],
   "source": [
    "#print('{:0.3f}'.format())\n",
    "std_and_75per = fuel_data.describe()['fuel_mmbtu_per_unit'][['std','75%']]\n",
    "print('The standard deviation and 75th percentile  of the measure of energy per unit (Fuel_mmbtu_per_unit) in two decimal places are: \\n{:0.2f} and {:0.2f}'.format(std_and_75per['std'],std_and_75per['75%']))"
   ]
  },
  {
   "cell_type": "markdown",
   "metadata": {},
   "source": [
    "Question 5\n",
    "What is the skewness and kurtosis for the fuel quantity burned in two decimal places?"
   ]
  },
  {
   "cell_type": "code",
   "execution_count": 18,
   "metadata": {},
   "outputs": [
    {
     "name": "stdout",
     "output_type": "stream",
     "text": [
      "The skewness and kurtosis for the fuel quantity burned in two decimal places are: \n",
      "15.85 and 651.37\n"
     ]
    }
   ],
   "source": [
    "fuel_burned_skewness = fuel_data['fuel_qty_burned'].skew()\n",
    "fuel_burned_kurtosis = fuel_data['fuel_qty_burned'].kurt()\n",
    "print('The skewness and kurtosis for the fuel quantity burned in two decimal places are: \\n{:0.2f} and {:0.2f}'.format(fuel_burned_skewness,fuel_burned_kurtosis))"
   ]
  },
  {
   "cell_type": "markdown",
   "metadata": {},
   "source": [
    "Question 6\n",
    "Which feature has missing values and what is the total number of missing value and percentage of the missing rows as a factor of the total number of rows in three decimal places?\n",
    "\n",
    "(Enter answer in the format: Feature: xxx, Total: xxx, Percent: xxx)"
   ]
  },
  {
   "cell_type": "code",
   "execution_count": 19,
   "metadata": {},
   "outputs": [],
   "source": [
    "#To get the list of the features with missing values\n",
    "Features = list(fuel_data.columns[fuel_data.isnull().any()])"
   ]
  },
  {
   "cell_type": "code",
   "execution_count": 20,
   "metadata": {},
   "outputs": [],
   "source": [
    "assert len(Features) == 1\n",
    "#Since there is only one value in the list,\n",
    "Feature = Features[0]\n",
    "Total = fuel_data.isnull().sum()[Feature]#total number of missing value in this feature"
   ]
  },
  {
   "cell_type": "code",
   "execution_count": 21,
   "metadata": {},
   "outputs": [],
   "source": [
    "fuel_data.isnull().sum()['fuel_unit']/ fuel_data.shape[0]*100\n",
    "Percent = fuel_data.isnull().sum()['fuel_unit']/ fuel_data.shape[0]"
   ]
  },
  {
   "cell_type": "code",
   "execution_count": 22,
   "metadata": {},
   "outputs": [
    {
     "name": "stdout",
     "output_type": "stream",
     "text": [
      "Feature: fuel_unit, Total: 180, Percent: 0.610%\n"
     ]
    }
   ],
   "source": [
    "print(f'Feature: {Feature}, Total: {Total}, Percent: {Percent:.3%}')"
   ]
  },
  {
   "cell_type": "markdown",
   "metadata": {},
   "source": [
    "Question 7\n",
    "The feature with missing values falls under what category? What missing value imputation technique would you use?"
   ]
  },
  {
   "cell_type": "code",
   "execution_count": 23,
   "metadata": {},
   "outputs": [],
   "source": [
    "assert fuel_data[Feature].dtypes == np.dtype('object')"
   ]
  },
  {
   "cell_type": "code",
   "execution_count": 24,
   "metadata": {},
   "outputs": [
    {
     "data": {
      "text/plain": [
       "'\\nThe data is Categorical and imputation is mode imputation\\n'"
      ]
     },
     "execution_count": 24,
     "metadata": {},
     "output_type": "execute_result"
    }
   ],
   "source": [
    "'''\n",
    "The data is Categorical and imputation is mode imputation\n",
    "'''"
   ]
  },
  {
   "cell_type": "markdown",
   "metadata": {},
   "source": [
    "Question 8\n",
    "Which of the features has the second and third lowest correlation with the Fuel Cost Per Unit Burned?"
   ]
  },
  {
   "cell_type": "code",
   "execution_count": 25,
   "metadata": {},
   "outputs": [
    {
     "name": "stdout",
     "output_type": "stream",
     "text": [
      "The following features are the second and third lowest correlation with the Fuel Cost Per Unit Burned: \n",
      "fuel_qty_burned and fuel_mmbtu_per_unit\n"
     ]
    }
   ],
   "source": [
    "#We first find the correlation then sort with the feature given in ascending order then pick the 2nd and 3rd by slicing\n",
    "sec_and_third_list = list(fuel_data.corr().sort_values('fuel_cost_per_unit_burned',ascending=True).index[1:3])\n",
    "print(f\"The following features are the second and third lowest correlation with the Fuel Cost Per Unit Burned: \\n{' and '.join(sec_and_third_list)}\")"
   ]
  },
  {
   "cell_type": "markdown",
   "metadata": {},
   "source": [
    "Question 9\n",
    "For the fuel type coal, what is the percentage change in the fuel cost per unit burned in 1998 compared to 1994?"
   ]
  },
  {
   "cell_type": "code",
   "execution_count": 26,
   "metadata": {},
   "outputs": [
    {
     "name": "stdout",
     "output_type": "stream",
     "text": [
      "For the fuel type coal, the percentage change in the fuel cost per unit burned in 1998 compared to 1994 is:\n",
      "21%\n"
     ]
    }
   ],
   "source": [
    "coal_cost_vs_year = fuel_data[fuel_data['fuel_type_code_pudl'] == 'coal'].groupby('report_year').sum()['fuel_cost_per_unit_burned']\n",
    "coal_cost_vs_year_change_ratio = (coal_cost_vs_year[1994] - coal_cost_vs_year[1998])/coal_cost_vs_year[1994]\n",
    "print(f'For the fuel type coal, the percentage change in the fuel cost per unit burned in 1998 compared to 1994 is:\\n{coal_cost_vs_year_change_ratio:.0%}')"
   ]
  },
  {
   "cell_type": "markdown",
   "metadata": {},
   "source": [
    "Question 10\n",
    "Which year has the highest average fuel cost per unit delivered?"
   ]
  },
  {
   "cell_type": "code",
   "execution_count": 27,
   "metadata": {
    "scrolled": true
   },
   "outputs": [
    {
     "data": {
      "text/plain": [
       "3564    1997\n",
       "Name: report_year, dtype: int64"
      ]
     },
     "execution_count": 27,
     "metadata": {},
     "output_type": "execute_result"
    }
   ],
   "source": [
    "#Method 1: check for the maximum value among all values \n",
    "fuel_data[fuel_data['fuel_cost_per_unit_delivered'] == max(fuel_data['fuel_cost_per_unit_delivered'])]['report_year']"
   ]
  },
  {
   "cell_type": "code",
   "execution_count": 28,
   "metadata": {},
   "outputs": [
    {
     "data": {
      "text/plain": [
       "1997"
      ]
     },
     "execution_count": 28,
     "metadata": {},
     "output_type": "execute_result"
    }
   ],
   "source": [
    "#Method 2: sort in descending order and pick the first\n",
    "fuel_data.sort_values('fuel_cost_per_unit_delivered',ascending=False)['report_year'].iloc[0]"
   ]
  },
  {
   "cell_type": "code",
   "execution_count": 29,
   "metadata": {},
   "outputs": [
    {
     "name": "stdout",
     "output_type": "stream",
     "text": [
      "The year with the highest average fuel cost per unit delivered is: \n",
      "1997\n"
     ]
    }
   ],
   "source": [
    "print(f\"The year with the highest average fuel cost per unit delivered is: \\n{fuel_data.sort_values('fuel_cost_per_unit_delivered',ascending=False)['report_year'].iloc[0]}\")"
   ]
  },
  {
   "cell_type": "code",
   "execution_count": null,
   "metadata": {},
   "outputs": [],
   "source": []
  }
 ],
 "metadata": {
  "kernelspec": {
   "display_name": "Python 3",
   "language": "python",
   "name": "python3"
  },
  "language_info": {
   "codemirror_mode": {
    "name": "ipython",
    "version": 3
   },
   "file_extension": ".py",
   "mimetype": "text/x-python",
   "name": "python",
   "nbconvert_exporter": "python",
   "pygments_lexer": "ipython3",
   "version": "3.8.3"
  }
 },
 "nbformat": 4,
 "nbformat_minor": 4
}
